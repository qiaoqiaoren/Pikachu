{
 "cells": [
  {
   "cell_type": "code",
   "execution_count": 1,
   "metadata": {},
   "outputs": [],
   "source": [
    "import numpy as np\n",
    "import pandas as pd\n",
    "import geocoder"
   ]
  },
  {
   "cell_type": "code",
   "execution_count": 2,
   "metadata": {},
   "outputs": [],
   "source": [
    "df = pd.read_csv('file.csv')"
   ]
  },
  {
   "cell_type": "code",
   "execution_count": 3,
   "metadata": {},
   "outputs": [
    {
     "data": {
      "text/plain": [
       "[43.70976500000006, -79.36390090899994]"
      ]
     },
     "execution_count": 3,
     "metadata": {},
     "output_type": "execute_result"
    }
   ],
   "source": [
    "def get_latlng(postal_code):\n",
    "    # initialize your variable to None\n",
    "    lat_lng_coords = None\n",
    "    # loop until you get the coordinates\n",
    "    while(lat_lng_coords is None):\n",
    "        g = geocoder.arcgis('{}, Toronto, Ontario'.format(postal_code))\n",
    "        lat_lng_coords = g.latlng\n",
    "    return lat_lng_coords\n",
    "    \n",
    "get_latlng('M4G')"
   ]
  },
  {
   "cell_type": "code",
   "execution_count": 4,
   "metadata": {},
   "outputs": [],
   "source": [
    "post_codes = df['Postalcode']    \n",
    "coords = [ get_latlng(postal_code) for postal_code in post_codes.tolist() ]"
   ]
  },
  {
   "cell_type": "code",
   "execution_count": 5,
   "metadata": {},
   "outputs": [],
   "source": [
    "df_coords = pd.DataFrame(coords, columns=['Latitude', 'Longitude'])\n",
    "df['Latitude'] = df_coords['Latitude']\n",
    "df['Longitude'] = df_coords['Longitude']"
   ]
  },
  {
   "cell_type": "code",
   "execution_count": 6,
   "metadata": {},
   "outputs": [
    {
     "data": {
      "text/html": [
       "<div>\n",
       "<style scoped>\n",
       "    .dataframe tbody tr th:only-of-type {\n",
       "        vertical-align: middle;\n",
       "    }\n",
       "\n",
       "    .dataframe tbody tr th {\n",
       "        vertical-align: top;\n",
       "    }\n",
       "\n",
       "    .dataframe thead th {\n",
       "        text-align: right;\n",
       "    }\n",
       "</style>\n",
       "<table border=\"1\" class=\"dataframe\">\n",
       "  <thead>\n",
       "    <tr style=\"text-align: right;\">\n",
       "      <th></th>\n",
       "      <th>Postalcode</th>\n",
       "      <th>Borough</th>\n",
       "      <th>Neighborhood</th>\n",
       "      <th>Latitude</th>\n",
       "      <th>Longitude</th>\n",
       "    </tr>\n",
       "  </thead>\n",
       "  <tbody>\n",
       "    <tr>\n",
       "      <th>0</th>\n",
       "      <td>M1B</td>\n",
       "      <td>Scarborough</td>\n",
       "      <td>Rouge, Malvern</td>\n",
       "      <td>43.811525</td>\n",
       "      <td>-79.195517</td>\n",
       "    </tr>\n",
       "    <tr>\n",
       "      <th>1</th>\n",
       "      <td>M1C</td>\n",
       "      <td>Scarborough</td>\n",
       "      <td>Highland Creek, Rouge Hill, Port Union</td>\n",
       "      <td>43.785730</td>\n",
       "      <td>-79.158750</td>\n",
       "    </tr>\n",
       "    <tr>\n",
       "      <th>2</th>\n",
       "      <td>M1E</td>\n",
       "      <td>Scarborough</td>\n",
       "      <td>Guildwood, Morningside, West Hill</td>\n",
       "      <td>43.765690</td>\n",
       "      <td>-79.175256</td>\n",
       "    </tr>\n",
       "    <tr>\n",
       "      <th>3</th>\n",
       "      <td>M1G</td>\n",
       "      <td>Scarborough</td>\n",
       "      <td>Woburn</td>\n",
       "      <td>43.768359</td>\n",
       "      <td>-79.217590</td>\n",
       "    </tr>\n",
       "    <tr>\n",
       "      <th>4</th>\n",
       "      <td>M1H</td>\n",
       "      <td>Scarborough</td>\n",
       "      <td>Cedarbrae</td>\n",
       "      <td>43.769688</td>\n",
       "      <td>-79.239440</td>\n",
       "    </tr>\n",
       "    <tr>\n",
       "      <th>5</th>\n",
       "      <td>M1J</td>\n",
       "      <td>Scarborough</td>\n",
       "      <td>Scarborough Village</td>\n",
       "      <td>43.743125</td>\n",
       "      <td>-79.231750</td>\n",
       "    </tr>\n",
       "    <tr>\n",
       "      <th>6</th>\n",
       "      <td>M1K</td>\n",
       "      <td>Scarborough</td>\n",
       "      <td>East Birchmount Park, Ionview, Kennedy Park</td>\n",
       "      <td>43.726245</td>\n",
       "      <td>-79.263670</td>\n",
       "    </tr>\n",
       "    <tr>\n",
       "      <th>7</th>\n",
       "      <td>M1L</td>\n",
       "      <td>Scarborough</td>\n",
       "      <td>Clairlea, Golden Mile, Oakridge</td>\n",
       "      <td>43.713133</td>\n",
       "      <td>-79.285055</td>\n",
       "    </tr>\n",
       "    <tr>\n",
       "      <th>8</th>\n",
       "      <td>M1M</td>\n",
       "      <td>Scarborough</td>\n",
       "      <td>Cliffcrest, Cliffside, Scarborough Village West</td>\n",
       "      <td>43.723575</td>\n",
       "      <td>-79.234976</td>\n",
       "    </tr>\n",
       "    <tr>\n",
       "      <th>9</th>\n",
       "      <td>M1N</td>\n",
       "      <td>Scarborough</td>\n",
       "      <td>Birch Cliff, Cliffside West</td>\n",
       "      <td>43.696665</td>\n",
       "      <td>-79.260163</td>\n",
       "    </tr>\n",
       "  </tbody>\n",
       "</table>\n",
       "</div>"
      ],
      "text/plain": [
       "  Postalcode      Borough                                     Neighborhood  \\\n",
       "0        M1B  Scarborough                                   Rouge, Malvern   \n",
       "1        M1C  Scarborough           Highland Creek, Rouge Hill, Port Union   \n",
       "2        M1E  Scarborough                Guildwood, Morningside, West Hill   \n",
       "3        M1G  Scarborough                                           Woburn   \n",
       "4        M1H  Scarborough                                        Cedarbrae   \n",
       "5        M1J  Scarborough                              Scarborough Village   \n",
       "6        M1K  Scarborough      East Birchmount Park, Ionview, Kennedy Park   \n",
       "7        M1L  Scarborough                  Clairlea, Golden Mile, Oakridge   \n",
       "8        M1M  Scarborough  Cliffcrest, Cliffside, Scarborough Village West   \n",
       "9        M1N  Scarborough                      Birch Cliff, Cliffside West   \n",
       "\n",
       "    Latitude  Longitude  \n",
       "0  43.811525 -79.195517  \n",
       "1  43.785730 -79.158750  \n",
       "2  43.765690 -79.175256  \n",
       "3  43.768359 -79.217590  \n",
       "4  43.769688 -79.239440  \n",
       "5  43.743125 -79.231750  \n",
       "6  43.726245 -79.263670  \n",
       "7  43.713133 -79.285055  \n",
       "8  43.723575 -79.234976  \n",
       "9  43.696665 -79.260163  "
      ]
     },
     "execution_count": 6,
     "metadata": {},
     "output_type": "execute_result"
    }
   ],
   "source": [
    "df.head(10)"
   ]
  },
  {
   "cell_type": "code",
   "execution_count": null,
   "metadata": {},
   "outputs": [],
   "source": []
  }
 ],
 "metadata": {
  "kernelspec": {
   "display_name": "Python 3",
   "language": "python",
   "name": "python3"
  },
  "language_info": {
   "codemirror_mode": {
    "name": "ipython",
    "version": 3
   },
   "file_extension": ".py",
   "mimetype": "text/x-python",
   "name": "python",
   "nbconvert_exporter": "python",
   "pygments_lexer": "ipython3",
   "version": "3.7.3"
  }
 },
 "nbformat": 4,
 "nbformat_minor": 2
}
